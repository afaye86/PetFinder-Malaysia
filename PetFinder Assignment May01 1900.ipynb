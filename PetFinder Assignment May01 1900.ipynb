{
 "cells": [
  {
   "cell_type": "code",
   "execution_count": 1,
   "metadata": {},
   "outputs": [],
   "source": [
    "######################## PetFinder Malaysia Modeling ##############################\n",
    "\n",
    "#author: Zoë Kimpel\n",
    "#date: 4.25.19\n",
    "\n",
    "#libraries\n",
    "import sys\n",
    "import collections\n",
    "import itertools\n",
    "import numpy as np\n",
    "import pandas as pd\n",
    "import matplotlib.pyplot as plt\n",
    "from scipy.stats import mode\n",
    "from scipy.spatial.distance import squareform\n",
    "import seaborn as sns\n",
    "from sklearn import model_selection\n",
    "from sklearn.metrics import classification_report\n",
    "from sklearn.metrics import confusion_matrix\n",
    "from sklearn.metrics import accuracy_score\n",
    "from sklearn.linear_model import LogisticRegression\n",
    "from sklearn.tree import DecisionTreeClassifier\n",
    "from sklearn.neighbors import KNeighborsClassifier\n",
    "from sklearn.discriminant_analysis import LinearDiscriminantAnalysis\n",
    "from sklearn.naive_bayes import GaussianNB\n",
    "from sklearn.svm import SVC\n",
    "from sklearn.preprocessing import Imputer\n",
    "from sklearn import preprocessing\n",
    "from sklearn import utils\n",
    "from sklearn.preprocessing import LabelEncoder\n",
    "from sklearn.preprocessing import scale\n",
    "from sklearn import tree\n",
    "import collections\n",
    "from sklearn.ensemble import RandomForestClassifier\n",
    "from sklearn.preprocessing import StandardScaler\n",
    "import bokeh\n",
    "from keras.callbacks import EarlyStopping, ModelCheckpoint #early stopping\n",
    "from keras import models\n",
    "from keras import layers\n",
    "from keras import regularizers\n",
    "from keras.callbacks import LambdaCallback\n",
    "from keras.utils import to_categorical\n",
    "import time\n",
    "\n",
    "plt.style.use('bmh')\n",
    "%matplotlib inline"
   ]
  },
  {
   "cell_type": "code",
   "execution_count": 32,
   "metadata": {},
   "outputs": [],
   "source": [
    "#import the dataset\n",
    "\n",
    "pet = pd.read_csv('train_features_w_state_info.csv', sep = ',')\n",
    "\n",
    "#pet.describe()"
   ]
  },
  {
   "cell_type": "markdown",
   "metadata": {
    "heading_collapsed": true
   },
   "source": [
    "## Data Clean-up / Transformations "
   ]
  },
  {
   "cell_type": "code",
   "execution_count": 3,
   "metadata": {
    "hidden": true
   },
   "outputs": [
    {
     "data": {
      "text/html": [
       "<div>\n",
       "<style scoped>\n",
       "    .dataframe tbody tr th:only-of-type {\n",
       "        vertical-align: middle;\n",
       "    }\n",
       "\n",
       "    .dataframe tbody tr th {\n",
       "        vertical-align: top;\n",
       "    }\n",
       "\n",
       "    .dataframe thead th {\n",
       "        text-align: right;\n",
       "    }\n",
       "</style>\n",
       "<table border=\"1\" class=\"dataframe\">\n",
       "  <thead>\n",
       "    <tr style=\"text-align: right;\">\n",
       "      <th></th>\n",
       "      <th>column_name</th>\n",
       "      <th>percent_missing</th>\n",
       "    </tr>\n",
       "  </thead>\n",
       "  <tbody>\n",
       "    <tr>\n",
       "      <th>Type</th>\n",
       "      <td>Type</td>\n",
       "      <td>0.000000</td>\n",
       "    </tr>\n",
       "    <tr>\n",
       "      <th>Sterilized</th>\n",
       "      <td>Sterilized</td>\n",
       "      <td>0.000000</td>\n",
       "    </tr>\n",
       "    <tr>\n",
       "      <th>Sterilized_Name</th>\n",
       "      <td>Sterilized_Name</td>\n",
       "      <td>0.000000</td>\n",
       "    </tr>\n",
       "    <tr>\n",
       "      <th>Health</th>\n",
       "      <td>Health</td>\n",
       "      <td>0.000000</td>\n",
       "    </tr>\n",
       "    <tr>\n",
       "      <th>Health_Name</th>\n",
       "      <td>Health_Name</td>\n",
       "      <td>0.000000</td>\n",
       "    </tr>\n",
       "    <tr>\n",
       "      <th>Quantity</th>\n",
       "      <td>Quantity</td>\n",
       "      <td>0.000000</td>\n",
       "    </tr>\n",
       "    <tr>\n",
       "      <th>Fee</th>\n",
       "      <td>Fee</td>\n",
       "      <td>0.000000</td>\n",
       "    </tr>\n",
       "    <tr>\n",
       "      <th>State</th>\n",
       "      <td>State</td>\n",
       "      <td>0.000000</td>\n",
       "    </tr>\n",
       "    <tr>\n",
       "      <th>State_Label</th>\n",
       "      <td>State_Label</td>\n",
       "      <td>0.000000</td>\n",
       "    </tr>\n",
       "    <tr>\n",
       "      <th>RescuerID</th>\n",
       "      <td>RescuerID</td>\n",
       "      <td>0.000000</td>\n",
       "    </tr>\n",
       "    <tr>\n",
       "      <th>VideoAmt</th>\n",
       "      <td>VideoAmt</td>\n",
       "      <td>0.000000</td>\n",
       "    </tr>\n",
       "    <tr>\n",
       "      <th>PetID</th>\n",
       "      <td>PetID</td>\n",
       "      <td>0.000000</td>\n",
       "    </tr>\n",
       "    <tr>\n",
       "      <th>PhotoAmt</th>\n",
       "      <td>PhotoAmt</td>\n",
       "      <td>0.000000</td>\n",
       "    </tr>\n",
       "    <tr>\n",
       "      <th>AdoptionSpeed</th>\n",
       "      <td>AdoptionSpeed</td>\n",
       "      <td>0.000000</td>\n",
       "    </tr>\n",
       "    <tr>\n",
       "      <th>StateorTerritory</th>\n",
       "      <td>StateorTerritory</td>\n",
       "      <td>0.000000</td>\n",
       "    </tr>\n",
       "    <tr>\n",
       "      <th>Population</th>\n",
       "      <td>Population</td>\n",
       "      <td>0.000000</td>\n",
       "    </tr>\n",
       "    <tr>\n",
       "      <th>TotalArea(km2)</th>\n",
       "      <td>TotalArea(km2)</td>\n",
       "      <td>0.000000</td>\n",
       "    </tr>\n",
       "    <tr>\n",
       "      <th>Region</th>\n",
       "      <td>Region</td>\n",
       "      <td>0.000000</td>\n",
       "    </tr>\n",
       "    <tr>\n",
       "      <th>HDI</th>\n",
       "      <td>HDI</td>\n",
       "      <td>0.000000</td>\n",
       "    </tr>\n",
       "    <tr>\n",
       "      <th>Population_Density</th>\n",
       "      <td>Population_Density</td>\n",
       "      <td>0.000000</td>\n",
       "    </tr>\n",
       "    <tr>\n",
       "      <th>Dewormed_Name</th>\n",
       "      <td>Dewormed_Name</td>\n",
       "      <td>0.000000</td>\n",
       "    </tr>\n",
       "    <tr>\n",
       "      <th>2017GDPpercapita_USD</th>\n",
       "      <td>2017GDPpercapita_USD</td>\n",
       "      <td>0.000000</td>\n",
       "    </tr>\n",
       "    <tr>\n",
       "      <th>Dewormed</th>\n",
       "      <td>Dewormed</td>\n",
       "      <td>0.000000</td>\n",
       "    </tr>\n",
       "    <tr>\n",
       "      <th>Vaccinated</th>\n",
       "      <td>Vaccinated</td>\n",
       "      <td>0.000000</td>\n",
       "    </tr>\n",
       "    <tr>\n",
       "      <th>Type_Name</th>\n",
       "      <td>Type_Name</td>\n",
       "      <td>0.000000</td>\n",
       "    </tr>\n",
       "    <tr>\n",
       "      <th>Age</th>\n",
       "      <td>Age</td>\n",
       "      <td>0.000000</td>\n",
       "    </tr>\n",
       "    <tr>\n",
       "      <th>Age_Yr</th>\n",
       "      <td>Age_Yr</td>\n",
       "      <td>0.000000</td>\n",
       "    </tr>\n",
       "    <tr>\n",
       "      <th>Breed1</th>\n",
       "      <td>Breed1</td>\n",
       "      <td>0.000000</td>\n",
       "    </tr>\n",
       "    <tr>\n",
       "      <th>Breed1_Name</th>\n",
       "      <td>Breed1_Name</td>\n",
       "      <td>0.000000</td>\n",
       "    </tr>\n",
       "    <tr>\n",
       "      <th>Breed2</th>\n",
       "      <td>Breed2</td>\n",
       "      <td>0.000000</td>\n",
       "    </tr>\n",
       "    <tr>\n",
       "      <th>Breed2_Name</th>\n",
       "      <td>Breed2_Name</td>\n",
       "      <td>0.000000</td>\n",
       "    </tr>\n",
       "    <tr>\n",
       "      <th>Gender</th>\n",
       "      <td>Gender</td>\n",
       "      <td>0.000000</td>\n",
       "    </tr>\n",
       "    <tr>\n",
       "      <th>Vaccinated_Name</th>\n",
       "      <td>Vaccinated_Name</td>\n",
       "      <td>0.000000</td>\n",
       "    </tr>\n",
       "    <tr>\n",
       "      <th>Gender_Name</th>\n",
       "      <td>Gender_Name</td>\n",
       "      <td>0.000000</td>\n",
       "    </tr>\n",
       "    <tr>\n",
       "      <th>Color1_Name</th>\n",
       "      <td>Color1_Name</td>\n",
       "      <td>0.000000</td>\n",
       "    </tr>\n",
       "    <tr>\n",
       "      <th>Color2</th>\n",
       "      <td>Color2</td>\n",
       "      <td>0.000000</td>\n",
       "    </tr>\n",
       "    <tr>\n",
       "      <th>Color2_Name</th>\n",
       "      <td>Color2_Name</td>\n",
       "      <td>0.000000</td>\n",
       "    </tr>\n",
       "    <tr>\n",
       "      <th>Color3</th>\n",
       "      <td>Color3</td>\n",
       "      <td>0.000000</td>\n",
       "    </tr>\n",
       "    <tr>\n",
       "      <th>Color3_Name</th>\n",
       "      <td>Color3_Name</td>\n",
       "      <td>0.000000</td>\n",
       "    </tr>\n",
       "    <tr>\n",
       "      <th>MaturitySize</th>\n",
       "      <td>MaturitySize</td>\n",
       "      <td>0.000000</td>\n",
       "    </tr>\n",
       "    <tr>\n",
       "      <th>MaturitySize_Name</th>\n",
       "      <td>MaturitySize_Name</td>\n",
       "      <td>0.000000</td>\n",
       "    </tr>\n",
       "    <tr>\n",
       "      <th>FurLength</th>\n",
       "      <td>FurLength</td>\n",
       "      <td>0.000000</td>\n",
       "    </tr>\n",
       "    <tr>\n",
       "      <th>FurLength_Name</th>\n",
       "      <td>FurLength_Name</td>\n",
       "      <td>0.000000</td>\n",
       "    </tr>\n",
       "    <tr>\n",
       "      <th>Color1</th>\n",
       "      <td>Color1</td>\n",
       "      <td>0.000000</td>\n",
       "    </tr>\n",
       "    <tr>\n",
       "      <th>2017GDPpercapita_RM</th>\n",
       "      <td>2017GDPpercapita_RM</td>\n",
       "      <td>0.000000</td>\n",
       "    </tr>\n",
       "    <tr>\n",
       "      <th>Description</th>\n",
       "      <td>Description</td>\n",
       "      <td>0.080037</td>\n",
       "    </tr>\n",
       "    <tr>\n",
       "      <th>Name</th>\n",
       "      <td>Name</td>\n",
       "      <td>8.383912</td>\n",
       "    </tr>\n",
       "  </tbody>\n",
       "</table>\n",
       "</div>"
      ],
      "text/plain": [
       "                               column_name  percent_missing\n",
       "Type                                  Type         0.000000\n",
       "Sterilized                      Sterilized         0.000000\n",
       "Sterilized_Name            Sterilized_Name         0.000000\n",
       "Health                              Health         0.000000\n",
       "Health_Name                    Health_Name         0.000000\n",
       "Quantity                          Quantity         0.000000\n",
       "Fee                                    Fee         0.000000\n",
       "State                                State         0.000000\n",
       "State_Label                    State_Label         0.000000\n",
       "RescuerID                        RescuerID         0.000000\n",
       "VideoAmt                          VideoAmt         0.000000\n",
       "PetID                                PetID         0.000000\n",
       "PhotoAmt                          PhotoAmt         0.000000\n",
       "AdoptionSpeed                AdoptionSpeed         0.000000\n",
       "StateorTerritory          StateorTerritory         0.000000\n",
       "Population                      Population         0.000000\n",
       "TotalArea(km2)              TotalArea(km2)         0.000000\n",
       "Region                              Region         0.000000\n",
       "HDI                                    HDI         0.000000\n",
       "Population_Density      Population_Density         0.000000\n",
       "Dewormed_Name                Dewormed_Name         0.000000\n",
       "2017GDPpercapita_USD  2017GDPpercapita_USD         0.000000\n",
       "Dewormed                          Dewormed         0.000000\n",
       "Vaccinated                      Vaccinated         0.000000\n",
       "Type_Name                        Type_Name         0.000000\n",
       "Age                                    Age         0.000000\n",
       "Age_Yr                              Age_Yr         0.000000\n",
       "Breed1                              Breed1         0.000000\n",
       "Breed1_Name                    Breed1_Name         0.000000\n",
       "Breed2                              Breed2         0.000000\n",
       "Breed2_Name                    Breed2_Name         0.000000\n",
       "Gender                              Gender         0.000000\n",
       "Vaccinated_Name            Vaccinated_Name         0.000000\n",
       "Gender_Name                    Gender_Name         0.000000\n",
       "Color1_Name                    Color1_Name         0.000000\n",
       "Color2                              Color2         0.000000\n",
       "Color2_Name                    Color2_Name         0.000000\n",
       "Color3                              Color3         0.000000\n",
       "Color3_Name                    Color3_Name         0.000000\n",
       "MaturitySize                  MaturitySize         0.000000\n",
       "MaturitySize_Name        MaturitySize_Name         0.000000\n",
       "FurLength                        FurLength         0.000000\n",
       "FurLength_Name              FurLength_Name         0.000000\n",
       "Color1                              Color1         0.000000\n",
       "2017GDPpercapita_RM    2017GDPpercapita_RM         0.000000\n",
       "Description                    Description         0.080037\n",
       "Name                                  Name         8.383912"
      ]
     },
     "execution_count": 3,
     "metadata": {},
     "output_type": "execute_result"
    }
   ],
   "source": [
    "#check for missing\n",
    "#% of columns that are NA\n",
    "columns = pet.columns\n",
    "percent_missing = pet.isnull().sum() * 100 / len(pet)\n",
    "missing_value_df = pd.DataFrame({'column_name': columns,\n",
    "                                 'percent_missing': percent_missing})\n",
    "missing_value_df.sort_values('percent_missing', inplace=True)\n",
    "missing_value_df\n",
    "\n",
    "#name is missing - remove column from final training set"
   ]
  },
  {
   "cell_type": "code",
   "execution_count": 33,
   "metadata": {
    "hidden": true
   },
   "outputs": [],
   "source": [
    "### AH ###\n",
    "\n",
    "### Drop Variables - Name and 2017GDPpercapita_RM ###\n",
    "pet.drop('2017GDPpercapita_RM', axis=1, inplace=True)\n",
    "pet.drop('Name', axis=1, inplace=True)\n",
    "\n",
    "### Change Fee to Yes or No vs $ amounts ###\n",
    "pet['Fee'] = pet['Fee'].apply(lambda x: 'No Fee' if x == 0 else 'Fee')"
   ]
  },
  {
   "cell_type": "code",
   "execution_count": 5,
   "metadata": {
    "hidden": true
   },
   "outputs": [
    {
     "name": "stdout",
     "output_type": "stream",
     "text": [
      "<class 'pandas.core.frame.DataFrame'>\n",
      "RangeIndex: 14993 entries, 0 to 14992\n",
      "Data columns (total 45 columns):\n",
      "Type                    14993 non-null int64\n",
      "Type_Name               14993 non-null object\n",
      "Age                     14993 non-null int64\n",
      "Age_Yr                  14993 non-null int64\n",
      "Breed1                  14993 non-null int64\n",
      "Breed1_Name             14993 non-null object\n",
      "Breed2                  14993 non-null int64\n",
      "Breed2_Name             14993 non-null object\n",
      "Gender                  14993 non-null int64\n",
      "Gender_Name             14993 non-null object\n",
      "Color1                  14993 non-null int64\n",
      "Color1_Name             14993 non-null object\n",
      "Color2                  14993 non-null int64\n",
      "Color2_Name             14993 non-null object\n",
      "Color3                  14993 non-null int64\n",
      "Color3_Name             14993 non-null object\n",
      "MaturitySize            14993 non-null int64\n",
      "MaturitySize_Name       14993 non-null object\n",
      "FurLength               14993 non-null int64\n",
      "FurLength_Name          14993 non-null object\n",
      "Vaccinated              14993 non-null int64\n",
      "Vaccinated_Name         14993 non-null object\n",
      "Dewormed                14993 non-null int64\n",
      "Dewormed_Name           14993 non-null object\n",
      "Sterilized              14993 non-null int64\n",
      "Sterilized_Name         14993 non-null object\n",
      "Health                  14993 non-null int64\n",
      "Health_Name             14993 non-null object\n",
      "Quantity                14993 non-null int64\n",
      "Fee                     14993 non-null object\n",
      "State                   14993 non-null int64\n",
      "State_Label             14993 non-null object\n",
      "RescuerID               14993 non-null object\n",
      "VideoAmt                14993 non-null int64\n",
      "Description             14981 non-null object\n",
      "PetID                   14993 non-null object\n",
      "PhotoAmt                14993 non-null int64\n",
      "AdoptionSpeed           14993 non-null int64\n",
      "StateorTerritory        14993 non-null object\n",
      "Population              14993 non-null int64\n",
      "TotalArea(km2)          14993 non-null int64\n",
      "Region                  14993 non-null object\n",
      "HDI                     14993 non-null float64\n",
      "Population_Density      14993 non-null float64\n",
      "2017GDPpercapita_USD    14993 non-null int64\n",
      "dtypes: float64(2), int64(23), object(20)\n",
      "memory usage: 5.1+ MB\n"
     ]
    }
   ],
   "source": [
    "pet.info()"
   ]
  },
  {
   "cell_type": "code",
   "execution_count": 34,
   "metadata": {
    "hidden": true
   },
   "outputs": [],
   "source": [
    "### Convert Data Types ### \n",
    "pet['Type'] = pet['Type'].astype('category')\n",
    "pet['Breed1'] = pet['Breed1'].astype('category')\n",
    "pet['Breed2'] = pet['Breed2'].astype('category')\n",
    "pet['Color1'] = pet['Color1'].astype('category')\n",
    "pet['Color2'] = pet['Color2'].astype('category')\n",
    "pet['Color3'] = pet['Color3'].astype('category')\n",
    "pet['MaturitySize'] = pet['MaturitySize'].astype('category')\n",
    "pet['FurLength'] = pet['FurLength'].astype('category')\n",
    "pet['Vaccinated'] = pet['Vaccinated'].astype('category')\n",
    "pet['Dewormed'] = pet['Dewormed'].astype('category')\n",
    "pet['Sterilized'] = pet['Sterilized'].astype('category')\n",
    "pet['Health'] = pet['Health'].astype('category')\n",
    "pet['Quantity'] = pet['Quantity'].astype('category')\n",
    "pet['State'] = pet['State'].astype('category') \n",
    "pet['Gender'] = pet['Gender'].astype('category')  \n",
    "\n",
    "fee_map = {'Fee': {'No Fee': 0, 'Fee': 1}}\n",
    "pet.replace(fee_map, inplace=True)\n",
    "pet['Fee'] = pet['Fee'].astype('category') \n",
    "\n",
    "stateterr_map = {'StateorTerritory': {'State': 1, 'Territory': 2}}\n",
    "pet.replace(stateterr_map, inplace=True)\n",
    "pet['StateorTerritory'] = pet['StateorTerritory'].astype('category') \n",
    "\n",
    "region_map = {'Region': {'East_Malaysia': 1, 'West_Malaysia': 2}}\n",
    "pet.replace(region_map, inplace=True)\n",
    "pet['Region'] = pet['Region'].astype('category') "
   ]
  },
  {
   "cell_type": "code",
   "execution_count": 35,
   "metadata": {
    "hidden": true
   },
   "outputs": [
    {
     "name": "stderr",
     "output_type": "stream",
     "text": [
      "C:\\Users\\Allison\\Anaconda3\\lib\\site-packages\\sklearn\\utils\\validation.py:595: DataConversionWarning: Data with input dtype int64 was converted to float64 by StandardScaler.\n",
      "  warnings.warn(msg, DataConversionWarning)\n",
      "C:\\Users\\Allison\\Anaconda3\\lib\\site-packages\\sklearn\\utils\\validation.py:595: DataConversionWarning: Data with input dtype int64 was converted to float64 by StandardScaler.\n",
      "  warnings.warn(msg, DataConversionWarning)\n",
      "C:\\Users\\Allison\\Anaconda3\\lib\\site-packages\\sklearn\\utils\\validation.py:595: DataConversionWarning: Data with input dtype int64 was converted to float64 by StandardScaler.\n",
      "  warnings.warn(msg, DataConversionWarning)\n",
      "C:\\Users\\Allison\\Anaconda3\\lib\\site-packages\\sklearn\\utils\\validation.py:595: DataConversionWarning: Data with input dtype int64 was converted to float64 by StandardScaler.\n",
      "  warnings.warn(msg, DataConversionWarning)\n",
      "C:\\Users\\Allison\\Anaconda3\\lib\\site-packages\\sklearn\\utils\\validation.py:595: DataConversionWarning: Data with input dtype int64 was converted to float64 by StandardScaler.\n",
      "  warnings.warn(msg, DataConversionWarning)\n",
      "C:\\Users\\Allison\\Anaconda3\\lib\\site-packages\\sklearn\\utils\\validation.py:595: DataConversionWarning: Data with input dtype int64 was converted to float64 by StandardScaler.\n",
      "  warnings.warn(msg, DataConversionWarning)\n",
      "C:\\Users\\Allison\\Anaconda3\\lib\\site-packages\\sklearn\\utils\\validation.py:595: DataConversionWarning: Data with input dtype int64 was converted to float64 by StandardScaler.\n",
      "  warnings.warn(msg, DataConversionWarning)\n",
      "C:\\Users\\Allison\\Anaconda3\\lib\\site-packages\\sklearn\\utils\\validation.py:595: DataConversionWarning: Data with input dtype int64 was converted to float64 by StandardScaler.\n",
      "  warnings.warn(msg, DataConversionWarning)\n",
      "C:\\Users\\Allison\\Anaconda3\\lib\\site-packages\\sklearn\\utils\\validation.py:595: DataConversionWarning: Data with input dtype int64 was converted to float64 by StandardScaler.\n",
      "  warnings.warn(msg, DataConversionWarning)\n",
      "C:\\Users\\Allison\\Anaconda3\\lib\\site-packages\\sklearn\\utils\\validation.py:595: DataConversionWarning: Data with input dtype int64 was converted to float64 by StandardScaler.\n",
      "  warnings.warn(msg, DataConversionWarning)\n",
      "C:\\Users\\Allison\\Anaconda3\\lib\\site-packages\\sklearn\\utils\\validation.py:595: DataConversionWarning: Data with input dtype int64 was converted to float64 by StandardScaler.\n",
      "  warnings.warn(msg, DataConversionWarning)\n",
      "C:\\Users\\Allison\\Anaconda3\\lib\\site-packages\\sklearn\\utils\\validation.py:595: DataConversionWarning: Data with input dtype int64 was converted to float64 by StandardScaler.\n",
      "  warnings.warn(msg, DataConversionWarning)\n"
     ]
    }
   ],
   "source": [
    "### Scale Numerical Data ###\n",
    "scaler = StandardScaler()\n",
    "pet['VideoAmt'] = scaler.fit_transform(pet['VideoAmt'].values.reshape(-1,1))\n",
    "pet['PhotoAmt'] = scaler.fit_transform(pet['PhotoAmt'].values.reshape(-1,1))\n",
    "pet['Population'] = scaler.fit_transform(pet['Population'].values.reshape(-1,1))\n",
    "pet['Population_Density'] = scaler.fit_transform(pet['Population_Density'].values.reshape(-1,1))\n",
    "pet['Age'] = scaler.fit_transform(pet['Age'].values.reshape(-1,1))\n",
    "pet['TotalArea(km2)'] = scaler.fit_transform(pet['TotalArea(km2)'].values.reshape(-1,1))\n",
    "pet['2017GDPpercapita_USD'] = scaler.fit_transform(pet['2017GDPpercapita_USD'].values.reshape(-1,1))\n",
    "pet['HDI'] = scaler.fit_transform(pet['HDI'].values.reshape(-1,1))\n",
    "pet['TotalArea(km2)'] = scaler.fit_transform(pet['TotalArea(km2)'].values.reshape(-1,1))\n"
   ]
  },
  {
   "cell_type": "markdown",
   "metadata": {
    "heading_collapsed": true
   },
   "source": [
    "## Create Modeling DF and Train/Test Sets "
   ]
  },
  {
   "cell_type": "code",
   "execution_count": 36,
   "metadata": {
    "hidden": true
   },
   "outputs": [],
   "source": [
    "###################### Modeling ######################\n",
    "\n",
    "#dataprep\n",
    "\n",
    "#split into X & Y #Not including RescuerID or PetID (too many categories)\n",
    "X_features = ['Type', 'Sterilized', 'Health', 'Fee', 'VideoAmt', 'PhotoAmt','Population',\n",
    "             'TotalArea(km2)','HDI', 'Population_Density', 'Dewormed', '2017GDPpercapita_USD', 'Vaccinated', 'Age', \n",
    "              'Breed1', 'Breed2','Gender', 'Color1', 'Color2', 'Color3', 'MaturitySize', 'FurLength',\n",
    "             'Quantity', 'State', 'StateorTerritory', 'Region']\n",
    "X = pet[X_features]\n",
    "X.replace(' ', '')\n",
    "Y = pet['AdoptionSpeed']\n",
    "Y = Y.astype('category') #Changed from int to category\n",
    "\n",
    "#split data into test and train\n",
    "validation_size = .2\n",
    "random_seed = 1234\n",
    "\n",
    "x_train, x_test, y_train, y_test = model_selection.train_test_split(X, Y, test_size = validation_size, random_state = random_seed)\n"
   ]
  },
  {
   "cell_type": "code",
   "execution_count": 9,
   "metadata": {
    "hidden": true
   },
   "outputs": [
    {
     "data": {
      "text/plain": [
       "Type                    category\n",
       "Sterilized              category\n",
       "Health                  category\n",
       "Fee                     category\n",
       "VideoAmt                 float64\n",
       "PhotoAmt                 float64\n",
       "Population               float64\n",
       "TotalArea(km2)           float64\n",
       "HDI                      float64\n",
       "Population_Density       float64\n",
       "Dewormed                category\n",
       "2017GDPpercapita_USD     float64\n",
       "Vaccinated              category\n",
       "Age                      float64\n",
       "Breed1                  category\n",
       "Breed2                  category\n",
       "Gender                  category\n",
       "Color1                  category\n",
       "Color2                  category\n",
       "Color3                  category\n",
       "MaturitySize            category\n",
       "FurLength               category\n",
       "Quantity                category\n",
       "State                   category\n",
       "StateorTerritory        category\n",
       "Region                  category\n",
       "dtype: object"
      ]
     },
     "execution_count": 9,
     "metadata": {},
     "output_type": "execute_result"
    }
   ],
   "source": [
    "X.dtypes"
   ]
  },
  {
   "cell_type": "markdown",
   "metadata": {},
   "source": [
    "## Combined Cats and Dogs Models "
   ]
  },
  {
   "cell_type": "markdown",
   "metadata": {
    "heading_collapsed": true
   },
   "source": [
    "### Logistic Regression, DecisionTreeClassifier, GaussianNB "
   ]
  },
  {
   "cell_type": "code",
   "execution_count": 11,
   "metadata": {
    "hidden": true
   },
   "outputs": [
    {
     "name": "stderr",
     "output_type": "stream",
     "text": [
      "C:\\Users\\Allison\\Anaconda3\\lib\\site-packages\\sklearn\\linear_model\\logistic.py:433: FutureWarning: Default solver will be changed to 'lbfgs' in 0.22. Specify a solver to silence this warning.\n",
      "  FutureWarning)\n",
      "C:\\Users\\Allison\\Anaconda3\\lib\\site-packages\\sklearn\\linear_model\\logistic.py:460: FutureWarning: Default multi_class will be changed to 'auto' in 0.22. Specify the multi_class option to silence this warning.\n",
      "  \"this warning.\", FutureWarning)\n",
      "C:\\Users\\Allison\\Anaconda3\\lib\\site-packages\\sklearn\\linear_model\\logistic.py:433: FutureWarning: Default solver will be changed to 'lbfgs' in 0.22. Specify a solver to silence this warning.\n",
      "  FutureWarning)\n",
      "C:\\Users\\Allison\\Anaconda3\\lib\\site-packages\\sklearn\\linear_model\\logistic.py:460: FutureWarning: Default multi_class will be changed to 'auto' in 0.22. Specify the multi_class option to silence this warning.\n",
      "  \"this warning.\", FutureWarning)\n",
      "C:\\Users\\Allison\\Anaconda3\\lib\\site-packages\\sklearn\\linear_model\\logistic.py:433: FutureWarning: Default solver will be changed to 'lbfgs' in 0.22. Specify a solver to silence this warning.\n",
      "  FutureWarning)\n",
      "C:\\Users\\Allison\\Anaconda3\\lib\\site-packages\\sklearn\\linear_model\\logistic.py:460: FutureWarning: Default multi_class will be changed to 'auto' in 0.22. Specify the multi_class option to silence this warning.\n",
      "  \"this warning.\", FutureWarning)\n",
      "C:\\Users\\Allison\\Anaconda3\\lib\\site-packages\\sklearn\\linear_model\\logistic.py:433: FutureWarning: Default solver will be changed to 'lbfgs' in 0.22. Specify a solver to silence this warning.\n",
      "  FutureWarning)\n",
      "C:\\Users\\Allison\\Anaconda3\\lib\\site-packages\\sklearn\\linear_model\\logistic.py:460: FutureWarning: Default multi_class will be changed to 'auto' in 0.22. Specify the multi_class option to silence this warning.\n",
      "  \"this warning.\", FutureWarning)\n",
      "C:\\Users\\Allison\\Anaconda3\\lib\\site-packages\\sklearn\\linear_model\\logistic.py:433: FutureWarning: Default solver will be changed to 'lbfgs' in 0.22. Specify a solver to silence this warning.\n",
      "  FutureWarning)\n",
      "C:\\Users\\Allison\\Anaconda3\\lib\\site-packages\\sklearn\\linear_model\\logistic.py:460: FutureWarning: Default multi_class will be changed to 'auto' in 0.22. Specify the multi_class option to silence this warning.\n",
      "  \"this warning.\", FutureWarning)\n",
      "C:\\Users\\Allison\\Anaconda3\\lib\\site-packages\\sklearn\\linear_model\\logistic.py:433: FutureWarning: Default solver will be changed to 'lbfgs' in 0.22. Specify a solver to silence this warning.\n",
      "  FutureWarning)\n",
      "C:\\Users\\Allison\\Anaconda3\\lib\\site-packages\\sklearn\\linear_model\\logistic.py:460: FutureWarning: Default multi_class will be changed to 'auto' in 0.22. Specify the multi_class option to silence this warning.\n",
      "  \"this warning.\", FutureWarning)\n",
      "C:\\Users\\Allison\\Anaconda3\\lib\\site-packages\\sklearn\\linear_model\\logistic.py:433: FutureWarning: Default solver will be changed to 'lbfgs' in 0.22. Specify a solver to silence this warning.\n",
      "  FutureWarning)\n",
      "C:\\Users\\Allison\\Anaconda3\\lib\\site-packages\\sklearn\\linear_model\\logistic.py:460: FutureWarning: Default multi_class will be changed to 'auto' in 0.22. Specify the multi_class option to silence this warning.\n",
      "  \"this warning.\", FutureWarning)\n",
      "C:\\Users\\Allison\\Anaconda3\\lib\\site-packages\\sklearn\\linear_model\\logistic.py:433: FutureWarning: Default solver will be changed to 'lbfgs' in 0.22. Specify a solver to silence this warning.\n",
      "  FutureWarning)\n",
      "C:\\Users\\Allison\\Anaconda3\\lib\\site-packages\\sklearn\\linear_model\\logistic.py:460: FutureWarning: Default multi_class will be changed to 'auto' in 0.22. Specify the multi_class option to silence this warning.\n",
      "  \"this warning.\", FutureWarning)\n",
      "C:\\Users\\Allison\\Anaconda3\\lib\\site-packages\\sklearn\\linear_model\\logistic.py:433: FutureWarning: Default solver will be changed to 'lbfgs' in 0.22. Specify a solver to silence this warning.\n",
      "  FutureWarning)\n",
      "C:\\Users\\Allison\\Anaconda3\\lib\\site-packages\\sklearn\\linear_model\\logistic.py:460: FutureWarning: Default multi_class will be changed to 'auto' in 0.22. Specify the multi_class option to silence this warning.\n",
      "  \"this warning.\", FutureWarning)\n",
      "C:\\Users\\Allison\\Anaconda3\\lib\\site-packages\\sklearn\\linear_model\\logistic.py:433: FutureWarning: Default solver will be changed to 'lbfgs' in 0.22. Specify a solver to silence this warning.\n",
      "  FutureWarning)\n",
      "C:\\Users\\Allison\\Anaconda3\\lib\\site-packages\\sklearn\\linear_model\\logistic.py:460: FutureWarning: Default multi_class will be changed to 'auto' in 0.22. Specify the multi_class option to silence this warning.\n",
      "  \"this warning.\", FutureWarning)\n"
     ]
    },
    {
     "name": "stdout",
     "output_type": "stream",
     "text": [
      "('Model:', 'LR', 0.28897595218237426)\n",
      "('Model:', 'CART', 0.3313322212955241)\n",
      "('Model:', 'NB', 0.30582582707812067)\n"
     ]
    }
   ],
   "source": [
    "# 3 basic models\n",
    "models = []\n",
    "models.append(('LR', LogisticRegression()))\n",
    "models.append(('CART', DecisionTreeClassifier()))\n",
    "models.append(('NB', GaussianNB()))\n",
    "\n",
    "results = []\n",
    "names = []\n",
    "for name, model in models:\n",
    "    kfold = model_selection.KFold(n_splits = 10, random_state = random_seed) #10 fold cross validation\n",
    "    cv_results = model_selection.cross_val_score(model, x_train, y_train, cv = kfold, scoring = 'accuracy')\n",
    "    results.append(cv_results)\n",
    "    names.append(name)\n",
    "    msg = (\"Model:\", name, cv_results.mean())\n",
    "    print(msg)"
   ]
  },
  {
   "cell_type": "code",
   "execution_count": 12,
   "metadata": {
    "hidden": true
   },
   "outputs": [
    {
     "name": "stdout",
     "output_type": "stream",
     "text": [
      "done\n",
      "Accuracy Score \n",
      " 0.32277425808602866\n",
      "Confusion Matrix \n",
      " [[  7  23  14  16  21]\n",
      " [ 14 158 175 126 119]\n",
      " [ 29 176 259 170 172]\n",
      " [ 14 129 167 184 149]\n",
      " [ 20 130 181 186 360]]\n",
      "Classification Report \n",
      "               precision    recall  f1-score   support\n",
      "\n",
      "           0       0.08      0.09      0.08        81\n",
      "           1       0.26      0.27      0.26       592\n",
      "           2       0.33      0.32      0.32       806\n",
      "           3       0.27      0.29      0.28       643\n",
      "           4       0.44      0.41      0.42       877\n",
      "\n",
      "   micro avg       0.32      0.32      0.32      2999\n",
      "   macro avg       0.27      0.27      0.27      2999\n",
      "weighted avg       0.33      0.32      0.32      2999\n",
      "\n"
     ]
    }
   ],
   "source": [
    "# looking at Decision Tree Classifier\n",
    "DT = DecisionTreeClassifier()\n",
    "DT.fit(x_train, y_train)\n",
    "predictions_DT = DT.predict(x_test)\n",
    "print(\"done\")\n",
    "\n",
    "\n",
    "#how accuracy is it?\n",
    "print(\"Accuracy Score \\n\", accuracy_score(y_test, predictions_DT))\n",
    "print(\"Confusion Matrix\", \"\\n\",  confusion_matrix(y_test, predictions_DT))\n",
    "print(\"Classification Report\", \"\\n\", classification_report(y_test, predictions_DT))"
   ]
  },
  {
   "cell_type": "code",
   "execution_count": 13,
   "metadata": {
    "hidden": true
   },
   "outputs": [
    {
     "data": {
      "image/png": "[encoded data removed]",
      "text/plain": [
       "<Figure size 288x288 with 1 Axes>"
      ]
     },
     "metadata": {},
     "output_type": "display_data"
    }
   ],
   "source": [
    "### Confusion Matrix Graph ###\n",
    "conf_mx = confusion_matrix(y_test, predictions_DT)\n",
    "\n",
    "row_sums = conf_mx.sum(axis=1, keepdims=True)\n",
    "norm_conf_mx = conf_mx/row_sums\n",
    "\n",
    "np.fill_diagonal(norm_conf_mx,0)\n",
    "plt.matshow(norm_conf_mx, cmap=plt.cm.gray)\n",
    "plt.show()"
   ]
  },
  {
   "cell_type": "markdown",
   "metadata": {
    "hidden": true
   },
   "source": [
    "Above graph compares errors the classifer makes. Rows represent actual classes and columns represent predicted classes. the brighter the block, the more likely the image gets misclassified.\n",
    "\n",
    "0's are most often misclassified as 4\n",
    "1's are most often misclassified as 2\n",
    "3's are most often misclassified as 2\n",
    "\n",
    "The vertical black line at 0 indicates that the model is really good at NOT classifying points as 0s when they aren't actually 0s."
   ]
  },
  {
   "cell_type": "markdown",
   "metadata": {},
   "source": [
    "### Random Forest "
   ]
  },
  {
   "cell_type": "code",
   "execution_count": 14,
   "metadata": {},
   "outputs": [
    {
     "name": "stdout",
     "output_type": "stream",
     "text": [
      "Accuracy Score \n",
      " 0.41547182394131377\n",
      "Confusion Matrix \n",
      " [[  8  25  20  11  17]\n",
      " [  5 205 177  81 124]\n",
      " [  8 181 312 130 175]\n",
      " [  3  99 180 201 160]\n",
      " [  1  94 158 104 520]]\n",
      "Classification Report \n",
      "               precision    recall  f1-score   support\n",
      "\n",
      "           0       0.32      0.10      0.15        81\n",
      "           1       0.34      0.35      0.34       592\n",
      "           2       0.37      0.39      0.38       806\n",
      "           3       0.38      0.31      0.34       643\n",
      "           4       0.52      0.59      0.56       877\n",
      "\n",
      "   micro avg       0.42      0.42      0.42      2999\n",
      "   macro avg       0.39      0.35      0.35      2999\n",
      "weighted avg       0.41      0.42      0.41      2999\n",
      "\n"
     ]
    }
   ],
   "source": [
    "#train the algorithm\n",
    "\n",
    "RF = RandomForestClassifier(n_estimators = 100,\n",
    "                                    max_features = 'sqrt', #Changed to sqrt since classification problem\n",
    "                                    bootstrap = False,\n",
    "                                    random_state = random_seed)\n",
    "RF.fit(x_train, y_train)\n",
    "y_pred_RF = RF.predict(x_test)\n",
    "\n",
    "#how accuracy is it?\n",
    "print(\"Accuracy Score \\n\", accuracy_score(y_test, y_pred_RF))\n",
    "print(\"Confusion Matrix\", \"\\n\",  confusion_matrix(y_test, y_pred_RF))\n",
    "print(\"Classification Report\", \"\\n\", classification_report(y_test, y_pred_RF))"
   ]
  },
  {
   "cell_type": "code",
   "execution_count": 15,
   "metadata": {},
   "outputs": [
    {
     "data": {
      "image/png": "[encoded data removed]",
      "text/plain": [
       "<Figure size 288x288 with 1 Axes>"
      ]
     },
     "metadata": {},
     "output_type": "display_data"
    }
   ],
   "source": [
    "### Confusion Matrix Graph ###\n",
    "conf_mx = confusion_matrix(y_test, y_pred_RF)\n",
    "\n",
    "row_sums = conf_mx.sum(axis=1, keepdims=True)\n",
    "norm_conf_mx = conf_mx/row_sums\n",
    "\n",
    "np.fill_diagonal(norm_conf_mx,0)\n",
    "plt.matshow(norm_conf_mx, cmap=plt.cm.gray)\n",
    "plt.show()"
   ]
  },
  {
   "cell_type": "markdown",
   "metadata": {},
   "source": [
    "Above graph compares errors the classifer makes. Rows represent actual classes and columns represent predicted classes. the brighter the block, the more likely the image gets misclassified.\n",
    "\n",
    "0's are most often misclassified as 1\n",
    "1's are most often misclassified as 2\n",
    "3's are most often misclassified as 2\n",
    "\n",
    "The vertical black line at 0 indicates that the model is really good at NOT classifying points as 0s when they aren't actually 0s."
   ]
  },
  {
   "cell_type": "code",
   "execution_count": 16,
   "metadata": {},
   "outputs": [
    {
     "name": "stdout",
     "output_type": "stream",
     "text": [
      "Features sorted by their score:\n",
      "\n",
      "[(0.1386, 'PhotoAmt'), (0.1292, 'Age'), (0.0853, 'Color2'), (0.0841, 'Color1'), (0.0764, 'Breed1'), (0.0546, 'Breed2'), (0.0455, 'Gender'), (0.0428, 'FurLength'), (0.0422, 'Quantity'), (0.0418, 'Color3'), (0.0403, 'MaturitySize'), (0.0362, 'Dewormed'), (0.0313, 'Vaccinated'), (0.0288, 'Sterilized'), (0.0258, 'Fee'), (0.0127, 'VideoAmt'), (0.0114, 'Population'), (0.0106, 'Health'), (0.0105, 'HDI'), (0.0103, 'State'), (0.0102, 'TotalArea(km2)'), (0.0097, 'Population_Density'), (0.0092, 'Type'), (0.0091, '2017GDPpercapita_USD'), (0.0033, 'StateorTerritory'), (0.0002, 'Region')]\n"
     ]
    }
   ],
   "source": [
    "#print the feature importances\n",
    "print(\"Features sorted by their score:\\n\")\n",
    "print(sorted(zip(map(lambda x: round(x, 4), RF.feature_importances_), X_features), reverse=True))"
   ]
  },
  {
   "cell_type": "code",
   "execution_count": 17,
   "metadata": {},
   "outputs": [
    {
     "name": "stdout",
     "output_type": "stream",
     "text": [
      "Feature Importance Ranking\n",
      "1. PhotoAmt (0.138625)\n",
      "2. Age (0.129193)\n",
      "3. Color2 (0.085317)\n",
      "4. Color1 (0.084134)\n",
      "5. Breed1 (0.076382)\n",
      "6. Breed2 (0.054621)\n",
      "7. Gender (0.045535)\n",
      "8. FurLength (0.042765)\n",
      "9. Quantity (0.042153)\n",
      "10. Color3 (0.041797)\n",
      "11. MaturitySize (0.040305)\n",
      "12. Dewormed (0.036193)\n",
      "13. Vaccinated (0.031254)\n",
      "14. Sterilized (0.028800)\n",
      "15. Fee (0.025761)\n",
      "16. VideoAmt (0.012654)\n",
      "17. Population (0.011403)\n",
      "18. Health (0.010595)\n",
      "19. HDI (0.010458)\n",
      "20. State (0.010304)\n",
      "21. TotalArea(km2) (0.010198)\n",
      "22. Population_Density (0.009720)\n",
      "23. Type (0.009187)\n",
      "24. 2017GDPpercapita_USD (0.009088)\n",
      "25. StateorTerritory (0.003326)\n",
      "26. Region (0.000235)\n"
     ]
    },
    {
     "data": {
      "text/plain": [
       "<function matplotlib.pyplot.show(*args, **kw)>"
      ]
     },
     "execution_count": 17,
     "metadata": {},
     "output_type": "execute_result"
    },
    {
     "data": {
      "image/png": "[encoded data removed]",
      "text/plain": [
       "<Figure size 1080x360 with 1 Axes>"
      ]
     },
     "metadata": {},
     "output_type": "display_data"
    }
   ],
   "source": [
    "### Feature Importance Graph ###\n",
    "importances = RF.feature_importances_\n",
    "std = np.std([tree.feature_importances_ for tree in RF.estimators_], axis=0)\n",
    "names = []\n",
    "indices = np.argsort(importances)[:-27:-1]\n",
    "\n",
    "print(\"Feature Importance Ranking\")\n",
    "for i in range(26):\n",
    "    print(\"%d. %s (%f)\" % (i+1, X_features[indices[i]], importances[indices[i]]))\n",
    "    names.append(X_features[indices[i]])\n",
    "\n",
    "plt.figure(figsize=(15,5))\n",
    "plt.title('Cat & Dog Feature Importance by RandomForestRegressor')\n",
    "plt.bar(range(len(indices)), importances[indices], align='center')\n",
    "plt.xticks(range(len(indices)), names, rotation='vertical', fontsize=10)\n",
    "plt.xlim([-1,26])\n",
    "plt.show"
   ]
  },
  {
   "cell_type": "markdown",
   "metadata": {},
   "source": [
    "### Dense Neural Network "
   ]
  },
  {
   "cell_type": "code",
   "execution_count": 42,
   "metadata": {},
   "outputs": [],
   "source": [
    "## Set parameters ##\n",
    "#get number of columns in training data\n",
    "n_cols = x_train.shape[1]\n",
    "hidden_nodes = 2\n",
    "output_nodes = 5  # 5 possible classes for digits 0-4\n",
    "epcnum = 100 # number of epochs\n",
    "bsize = 200 # number of mini batches\n",
    "l2_wgt_reg = 0.001 #every coefficient in weight matrix of layer will add # * weight coefficint to total loss of network,\n",
    "## penalizes model and essentially makes it more resistant to overfitting (Chollet, pg 108)\n",
    "\n",
    "### Network Architecture ##\n",
    "network = models.Sequential()\n",
    "network.add(layers.Dense(hidden_nodes, activation='relu', kernel_regularizer=regularizers.l2(l2_wgt_reg),\n",
    "                         input_shape=(n_cols,))) \n",
    "network.add(layers.Dropout(0.5))\n",
    "network.add(layers.Dense(output_nodes, activation='softmax')) #Output layer, 5 possible classes for digits 0-4\n",
    "\n",
    "## Compilation Step ##\n",
    "network.compile(optimizer='rmsprop', loss='categorical_crossentropy', metrics=['accuracy'])\n",
    "\n",
    "## Set callbacks\n",
    "earlystop = EarlyStopping(monitor='val_loss', patience=2, restore_best_weights=True)\n",
    "ModChk =  ModelCheckpoint(filepath='best_model', monitor='val_loss', save_best_only=True)\n",
    "wgts = []\n",
    "print_weights = LambdaCallback(on_epoch_end=lambda batch, logs: wgts.append(network.layers[0].get_weights()))"
   ]
  },
  {
   "cell_type": "code",
   "execution_count": 38,
   "metadata": {},
   "outputs": [],
   "source": [
    "#one-hot encode target column\n",
    "y_train = to_categorical(y_train)\n",
    "y_test = to_categorical(y_test)"
   ]
  },
  {
   "cell_type": "code",
   "execution_count": 43,
   "metadata": {},
   "outputs": [
    {
     "name": "stdout",
     "output_type": "stream",
     "text": [
      "Train on 9595 samples, validate on 2399 samples\n",
      "Epoch 1/100\n",
      "9595/9595 [==============================] - 1s 78us/step - loss: 7.1596 - acc: 0.2378 - val_loss: 12.2642 - val_acc: 0.2393\n",
      "Epoch 2/100\n",
      "9595/9595 [==============================] - 0s 35us/step - loss: 4.1196 - acc: 0.2608 - val_loss: 1.5818 - val_acc: 0.2743\n",
      "Epoch 3/100\n",
      "9595/9595 [==============================] - 0s 27us/step - loss: 1.5744 - acc: 0.2774 - val_loss: 1.5698 - val_acc: 0.2743\n",
      "Epoch 4/100\n",
      "9595/9595 [==============================] - 0s 27us/step - loss: 1.5624 - acc: 0.2774 - val_loss: 1.5588 - val_acc: 0.2743\n",
      "Epoch 5/100\n",
      "9595/9595 [==============================] - 0s 29us/step - loss: 1.5513 - acc: 0.2774 - val_loss: 1.5488 - val_acc: 0.2743\n",
      "Epoch 6/100\n",
      "9595/9595 [==============================] - 0s 27us/step - loss: 1.5415 - acc: 0.2734 - val_loss: 1.5401 - val_acc: 0.2743\n",
      "Epoch 7/100\n",
      "9595/9595 [==============================] - 0s 32us/step - loss: 1.5328 - acc: 0.2774 - val_loss: 1.5323 - val_acc: 0.2743\n",
      "Epoch 8/100\n",
      "9595/9595 [==============================] - 0s 22us/step - loss: 1.5249 - acc: 0.2774 - val_loss: 1.5252 - val_acc: 0.2743\n",
      "Epoch 9/100\n",
      "9595/9595 [==============================] - 0s 20us/step - loss: 1.5179 - acc: 0.2774 - val_loss: 1.5190 - val_acc: 0.2743\n",
      "Epoch 10/100\n",
      "9595/9595 [==============================] - 0s 26us/step - loss: 1.5117 - acc: 0.2774 - val_loss: 1.5134 - val_acc: 0.2743\n",
      "Epoch 11/100\n",
      "9595/9595 [==============================] - 0s 22us/step - loss: 5.6589 - acc: 0.2807 - val_loss: 11.9794 - val_acc: 0.2568\n",
      "Epoch 12/100\n",
      "9595/9595 [==============================] - 0s 25us/step - loss: 6.6212 - acc: 0.2757 - val_loss: 11.9794 - val_acc: 0.2568\n",
      "Training took 4.64s\n",
      "Early Stopping at Epoch #:  10\n"
     ]
    },
    {
     "data": {
      "image/png": "[encoded data removed]",
      "text/plain": [
       "<Figure size 432x288 with 1 Axes>"
      ]
     },
     "metadata": {},
     "output_type": "display_data"
    },
    {
     "name": "stdout",
     "output_type": "stream",
     "text": [
      "2999/2999 [==============================] - 0s 46us/step\n",
      "test_acc: 0.29243081031977713\n"
     ]
    }
   ],
   "source": [
    "## Train/Fit Model to Training Data & Evaluate on Validation Data\n",
    "t0 = time.time()\n",
    "history = network.fit(x_train, y_train, epochs=epcnum, batch_size=bsize, validation_split=0.2, callbacks=[earlystop,\n",
    "                    ModChk,print_weights])\n",
    "t1 =time.time()\n",
    "print(\"Training took {:.2f}s\".format(t1-t0))\n",
    "print(\"Early Stopping at Epoch #: \", earlystop.stopped_epoch-1)\n",
    "\n",
    "\n",
    "## Plot loss\n",
    "plt.plot(history.history['loss'][:earlystop.stopped_epoch-1], \"bo\")\n",
    "plt.plot(history.history['val_loss'][:earlystop.stopped_epoch-1])\n",
    "plt.title('Training and Validaton Loss')\n",
    "plt.ylabel('loss')\n",
    "plt.xlabel('epoch')\n",
    "plt.legend(['train', 'val'], loc='upper right')\n",
    "plt.show()\n",
    "\n",
    "## Model Performance on Test Data\n",
    "t0=time.time()\n",
    "test_loss, test_acc = network.evaluate(x_test, y_test)\n",
    "t1 =time.time()\n",
    "print('test_acc:', test_acc)\n",
    "#print(\"Predicting on Model \", modnum, \" {:.2f}s\".format(t1-t0))"
   ]
  },
  {
   "cell_type": "markdown",
   "metadata": {
    "heading_collapsed": true
   },
   "source": [
    "## Cat vs Dog Specific Models "
   ]
  },
  {
   "cell_type": "code",
   "execution_count": 68,
   "metadata": {
    "hidden": true
   },
   "outputs": [],
   "source": [
    "#separate into cat vs. dog specific models\n",
    "dog = pet[pet['Type_Name'] == 'Dog']\n",
    "cat = pet[pet['Type_Name'] == 'Cat']"
   ]
  },
  {
   "cell_type": "markdown",
   "metadata": {
    "heading_collapsed": true,
    "hidden": true
   },
   "source": [
    "### Dog Specific Models "
   ]
  },
  {
   "cell_type": "code",
   "execution_count": 70,
   "metadata": {
    "hidden": true
   },
   "outputs": [
    {
     "name": "stdout",
     "output_type": "stream",
     "text": [
      "Accuracy Score \n",
      " 0.42778119237861095\n",
      "Confusion Matrix \n",
      " [[  2   9  15   7   7]\n",
      " [  4 103  74  38  54]\n",
      " [  6  79 158  92 113]\n",
      " [  6  50  93 133 106]\n",
      " [  2  33  72  71 300]]\n",
      "Classification Report \n",
      "               precision    recall  f1-score   support\n",
      "\n",
      "           0       0.10      0.05      0.07        40\n",
      "           1       0.38      0.38      0.38       273\n",
      "           2       0.38      0.35      0.37       448\n",
      "           3       0.39      0.34      0.36       388\n",
      "           4       0.52      0.63      0.57       478\n",
      "\n",
      "   micro avg       0.43      0.43      0.43      1627\n",
      "   macro avg       0.35      0.35      0.35      1627\n",
      "weighted avg       0.42      0.43      0.42      1627\n",
      "\n"
     ]
    },
    {
     "data": {
      "image/png": "[encoded data removed]",
      "text/plain": [
       "<Figure size 288x288 with 1 Axes>"
      ]
     },
     "metadata": {},
     "output_type": "display_data"
    },
    {
     "name": "stdout",
     "output_type": "stream",
     "text": [
      "Features sorted by their score:\n",
      "\n",
      "[(0.146, 'PhotoAmt'), (0.1379, 'Age'), (0.0839, 'Color2'), (0.0804, 'Color1'), (0.0635, 'Breed1'), (0.0544, 'Breed2'), (0.0463, 'FurLength'), (0.0432, 'Gender'), (0.0417, 'MaturitySize'), (0.0396, 'Color3'), (0.0385, 'Quantity'), (0.0379, 'Dewormed'), (0.0374, 'Vaccinated'), (0.0343, 'Sterilized'), (0.0255, 'Fee'), (0.0129, 'Population'), (0.0123, 'VideoAmt'), (0.0111, 'TotalArea(km2)'), (0.0101, 'State'), (0.01, 'Health'), (0.01, 'HDI'), (0.01, '2017GDPpercapita_USD'), (0.0097, 'Population_Density'), (0.0031, 'StateorTerritory'), (0.0001, 'Region'), (0.0, 'Type')]\n",
      "Feature Importance Ranking\n",
      "1. PhotoAmt (0.146017)\n",
      "2. Age (0.137891)\n",
      "3. Color2 (0.083893)\n",
      "4. Color1 (0.080366)\n",
      "5. Breed1 (0.063529)\n",
      "6. Breed2 (0.054409)\n",
      "7. FurLength (0.046280)\n",
      "8. Gender (0.043236)\n",
      "9. MaturitySize (0.041665)\n",
      "10. Color3 (0.039618)\n",
      "11. Quantity (0.038504)\n",
      "12. Dewormed (0.037901)\n",
      "13. Vaccinated (0.037355)\n",
      "14. Sterilized (0.034285)\n",
      "15. Fee (0.025530)\n",
      "16. Population (0.012940)\n",
      "17. VideoAmt (0.012310)\n",
      "18. TotalArea(km2) (0.011134)\n",
      "19. State (0.010109)\n",
      "20. Health (0.010038)\n",
      "21. HDI (0.010030)\n",
      "22. 2017GDPpercapita_USD (0.010005)\n",
      "23. Population_Density (0.009713)\n",
      "24. StateorTerritory (0.003149)\n",
      "25. Region (0.000093)\n",
      "26. Type (0.000000)\n"
     ]
    },
    {
     "data": {
      "text/plain": [
       "<function matplotlib.pyplot.show(*args, **kw)>"
      ]
     },
     "execution_count": 70,
     "metadata": {},
     "output_type": "execute_result"
    },
    {
     "data": {
      "image/png": "[encoded data removed]",
      "text/plain": [
       "<Figure size 1080x360 with 1 Axes>"
      ]
     },
     "metadata": {},
     "output_type": "display_data"
    }
   ],
   "source": [
    "########## dog\n",
    "\n",
    "###################### Modeling ######################\n",
    "\n",
    "#dataprep\n",
    "\n",
    "#split into X & Y\n",
    "X_features = ['Type', 'Sterilized', 'Health', 'Fee', 'VideoAmt', 'PhotoAmt','Population',\n",
    "             'TotalArea(km2)','HDI', 'Population_Density', 'Dewormed', '2017GDPpercapita_USD', 'Vaccinated', 'Age', \n",
    "              'Breed1', 'Breed2','Gender', 'Color1', 'Color2', 'Color3', 'MaturitySize', 'FurLength',\n",
    "             'Quantity', 'State', 'StateorTerritory', 'Region']\n",
    "X_dog = dog[X_features]\n",
    "X_dog.replace(' ', '')\n",
    "Y_dog = dog['AdoptionSpeed']\n",
    "Y_dog = Y_dog.astype('category') #Changed from int to category\n",
    "\n",
    "#split data into test and train\n",
    "validation_size = .2\n",
    "random_seed = 1234\n",
    "\n",
    "x_train_dog, x_test_dog, y_train_dog, y_test_dog = model_selection.train_test_split(X_dog, Y_dog, test_size = validation_size, random_state = random_seed)\n",
    "\n",
    "\n",
    "#train the algorithm\n",
    "\n",
    "RF_dog = RandomForestClassifier(n_estimators = 100,\n",
    "                                    max_features = 'sqrt', #changed to sqrt\n",
    "                                    bootstrap = False,\n",
    "                                    random_state = random_seed)\n",
    "RF_dog.fit(x_train_dog, y_train_dog)\n",
    "y_pred_RF_dog = RF_dog.predict(x_test_dog)\n",
    "\n",
    "#how accuracy is it?\n",
    "print(\"Accuracy Score \\n\", accuracy_score(y_test_dog, y_pred_RF_dog))\n",
    "print(\"Confusion Matrix\", \"\\n\",  confusion_matrix(y_test_dog, y_pred_RF_dog))\n",
    "print(\"Classification Report\", \"\\n\", classification_report(y_test_dog, y_pred_RF_dog))\n",
    "\n",
    "### Confusion Matrix Graph ###\n",
    "conf_mx = confusion_matrix(y_test_dog, y_pred_RF_dog)\n",
    "\n",
    "row_sums = conf_mx.sum(axis=1, keepdims=True)\n",
    "norm_conf_mx = conf_mx/row_sums\n",
    "\n",
    "np.fill_diagonal(norm_conf_mx,0)\n",
    "plt.matshow(norm_conf_mx, cmap=plt.cm.gray)\n",
    "plt.show()\n",
    "\n",
    "#print the feature importances\n",
    "print(\"Features sorted by their score:\\n\")\n",
    "print(sorted(zip(map(lambda x: round(x, 4), RF_dog.feature_importances_), X_features), reverse=True))\n",
    "\n",
    "### Feature Importance Graph ###\n",
    "importances = RF_dog.feature_importances_\n",
    "std = np.std([tree.feature_importances_ for tree in RF_dog.estimators_], axis=0)\n",
    "names = []\n",
    "indices = np.argsort(importances)[:-27:-1]\n",
    "\n",
    "print(\"Feature Importance Ranking\")\n",
    "for i in range(26):\n",
    "    print(\"%d. %s (%f)\" % (i+1, X_features[indices[i]], importances[indices[i]]))\n",
    "    names.append(X_features[indices[i]])\n",
    "\n",
    "plt.figure(figsize=(15,5))\n",
    "plt.title('Dog-Specific Feature Importance by RandomForestRegressor')\n",
    "plt.bar(range(len(indices)), importances[indices], align='center')\n",
    "plt.xticks(range(len(indices)), names, rotation='vertical', fontsize=10)\n",
    "plt.xlim([-1,26])\n",
    "plt.show\n"
   ]
  },
  {
   "cell_type": "markdown",
   "metadata": {
    "heading_collapsed": true,
    "hidden": true
   },
   "source": [
    "### Cat-Specific Models "
   ]
  },
  {
   "cell_type": "code",
   "execution_count": 74,
   "metadata": {
    "hidden": true
   },
   "outputs": [
    {
     "name": "stdout",
     "output_type": "stream",
     "text": [
      "Accuracy Score \n",
      " 0.37973760932944606\n",
      "Confusion Matrix \n",
      " [[  2  10   9   7  12]\n",
      " [  4 118 108  45  60]\n",
      " [  4  91 144  58  68]\n",
      " [  3  56  72  55  72]\n",
      " [  2  56  70  44 202]]\n",
      "Classification Report \n",
      "               precision    recall  f1-score   support\n",
      "\n",
      "           0       0.13      0.05      0.07        40\n",
      "           1       0.36      0.35      0.35       335\n",
      "           2       0.36      0.39      0.38       365\n",
      "           3       0.26      0.21      0.24       258\n",
      "           4       0.49      0.54      0.51       374\n",
      "\n",
      "   micro avg       0.38      0.38      0.38      1372\n",
      "   macro avg       0.32      0.31      0.31      1372\n",
      "weighted avg       0.37      0.38      0.37      1372\n",
      "\n"
     ]
    },
    {
     "data": {
      "image/png": "[encoded data removed]",
      "text/plain": [
       "<Figure size 288x288 with 1 Axes>"
      ]
     },
     "metadata": {},
     "output_type": "display_data"
    },
    {
     "name": "stdout",
     "output_type": "stream",
     "text": [
      "Features sorted by their score:\n",
      "\n",
      "[(0.1409, 'PhotoAmt'), (0.1226, 'Age'), (0.0871, 'Color2'), (0.0827, 'Color1'), (0.081, 'Breed1'), (0.0542, 'Breed2'), (0.052, 'Gender'), (0.0461, 'Color3'), (0.0456, 'MaturitySize'), (0.0436, 'Quantity'), (0.0426, 'FurLength'), (0.03, 'Dewormed'), (0.0281, 'Sterilized'), (0.0263, 'Fee'), (0.0261, 'Vaccinated'), (0.0121, 'VideoAmt'), (0.0115, 'Population'), (0.011, 'Health'), (0.0108, 'HDI'), (0.0105, 'TotalArea(km2)'), (0.0104, 'State'), (0.0103, '2017GDPpercapita_USD'), (0.0102, 'Population_Density'), (0.0039, 'StateorTerritory'), (0.0004, 'Region'), (0.0, 'Type')]\n",
      "Feature Importance Ranking\n",
      "1. PhotoAmt (0.140944)\n",
      "2. Age (0.122565)\n",
      "3. Color2 (0.087085)\n",
      "4. Color1 (0.082699)\n",
      "5. Breed1 (0.080969)\n",
      "6. Breed2 (0.054228)\n",
      "7. Gender (0.052041)\n",
      "8. Color3 (0.046084)\n",
      "9. MaturitySize (0.045609)\n",
      "10. Quantity (0.043605)\n",
      "11. FurLength (0.042592)\n",
      "12. Dewormed (0.029970)\n",
      "13. Sterilized (0.028104)\n",
      "14. Fee (0.026284)\n",
      "15. Vaccinated (0.026057)\n",
      "16. VideoAmt (0.012141)\n",
      "17. Population (0.011530)\n",
      "18. Health (0.011045)\n",
      "19. HDI (0.010765)\n",
      "20. TotalArea(km2) (0.010495)\n",
      "21. State (0.010448)\n",
      "22. 2017GDPpercapita_USD (0.010300)\n",
      "23. Population_Density (0.010207)\n",
      "24. StateorTerritory (0.003850)\n",
      "25. Region (0.000379)\n",
      "26. Type (0.000000)\n"
     ]
    },
    {
     "data": {
      "text/plain": [
       "<function matplotlib.pyplot.show(*args, **kw)>"
      ]
     },
     "execution_count": 74,
     "metadata": {},
     "output_type": "execute_result"
    },
    {
     "data": {
      "image/png": "[encoded data removed]",
      "text/plain": [
       "<Figure size 1080x360 with 1 Axes>"
      ]
     },
     "metadata": {},
     "output_type": "display_data"
    }
   ],
   "source": [
    "########## cat\n",
    "\n",
    "###################### Modeling ######################\n",
    "\n",
    "#dataprep\n",
    "\n",
    "#split into X & Y\n",
    "X_features = ['Type', 'Sterilized', 'Health', 'Fee', 'VideoAmt', 'PhotoAmt','Population',\n",
    "             'TotalArea(km2)','HDI', 'Population_Density', 'Dewormed', '2017GDPpercapita_USD', 'Vaccinated', 'Age', \n",
    "              'Breed1', 'Breed2','Gender', 'Color1', 'Color2', 'Color3', 'MaturitySize', 'FurLength',\n",
    "             'Quantity', 'State', 'StateorTerritory', 'Region']\n",
    "X_cat = cat[X_features]\n",
    "X_cat.replace(' ', '')\n",
    "Y_cat = cat['AdoptionSpeed']\n",
    "Y_cat = Y_cat.astype('int')\n",
    "\n",
    "#split data into test and train\n",
    "validation_size = .2\n",
    "random_seed = 1234\n",
    "\n",
    "x_train_cat, x_test_cat, y_train_cat, y_test_cat = model_selection.train_test_split(X_cat, Y_cat, test_size = validation_size, random_state = random_seed)\n",
    "\n",
    "\n",
    "#train the algorithm\n",
    "\n",
    "RF_cat = RandomForestClassifier(n_estimators = 100,\n",
    "                                    max_features = 'sqrt',\n",
    "                                    bootstrap = False,\n",
    "                                    random_state = random_seed)\n",
    "RF_cat.fit(x_train_cat, y_train_cat)\n",
    "y_pred_RF_cat = RF_cat.predict(x_test_cat)\n",
    "\n",
    "#how accuracy is it?\n",
    "print(\"Accuracy Score \\n\", accuracy_score(y_test_cat, y_pred_RF_cat))\n",
    "print(\"Confusion Matrix\", \"\\n\",  confusion_matrix(y_test_cat, y_pred_RF_cat))\n",
    "print(\"Classification Report\", \"\\n\", classification_report(y_test_cat, y_pred_RF_cat))\n",
    "\n",
    "### Confusion Matrix Graph ###\n",
    "conf_mx = confusion_matrix(y_test_cat, y_pred_RF_cat)\n",
    "\n",
    "row_sums = conf_mx.sum(axis=1, keepdims=True)\n",
    "norm_conf_mx = conf_mx/row_sums\n",
    "\n",
    "np.fill_diagonal(norm_conf_mx,0)\n",
    "plt.matshow(norm_conf_mx, cmap=plt.cm.gray)\n",
    "plt.show()\n",
    "\n",
    "\n",
    "#print the feature importances\n",
    "print(\"Features sorted by their score:\\n\")\n",
    "print(sorted(zip(map(lambda x: round(x, 4), RF_cat.feature_importances_), X_features), reverse=True))\n",
    "\n",
    "\n",
    "### Feature Importance Graph ###\n",
    "importances = RF_cat.feature_importances_\n",
    "std = np.std([tree.feature_importances_ for tree in RF_cat.estimators_], axis=0)\n",
    "names = []\n",
    "indices = np.argsort(importances)[:-27:-1]\n",
    "\n",
    "print(\"Feature Importance Ranking\")\n",
    "for i in range(26):\n",
    "    print(\"%d. %s (%f)\" % (i+1, X_features[indices[i]], importances[indices[i]]))\n",
    "    names.append(X_features[indices[i]])\n",
    "\n",
    "plt.figure(figsize=(15,5))\n",
    "plt.title('Cat-Specific Feature Importance by RandomForestRegressor')\n",
    "plt.bar(range(len(indices)), importances[indices], align='center')\n",
    "plt.xticks(range(len(indices)), names, rotation='vertical', fontsize=10)\n",
    "plt.xlim([-1,26])\n",
    "plt.show\n"
   ]
  },
  {
   "cell_type": "markdown",
   "metadata": {
    "heading_collapsed": true
   },
   "source": [
    "## Correlation Plot "
   ]
  },
  {
   "cell_type": "code",
   "execution_count": 34,
   "metadata": {
    "hidden": true
   },
   "outputs": [
    {
     "data": {
      "text/plain": [
       "<matplotlib.axes._subplots.AxesSubplot at 0x299f1933b38>"
      ]
     },
     "execution_count": 34,
     "metadata": {},
     "output_type": "execute_result"
    },
    {
     "data": {
      "image/png": "[encoded data removed]",
      "text/plain": [
       "<matplotlib.figure.Figure at 0x299f1311748>"
      ]
     },
     "metadata": {},
     "output_type": "display_data"
    }
   ],
   "source": [
    "import seaborn as sns\n",
    "\n",
    "f, ax = plt.subplots(figsize=(10, 8))\n",
    "corr = pet.corr()\n",
    "sns.heatmap(corr, mask=np.zeros_like(corr, dtype=np.bool), cmap=sns.diverging_palette(10, 220, as_cmap=True),\n",
    "            square=True, ax=ax)"
   ]
  }
 ],
 "metadata": {
  "kernelspec": {
   "display_name": "Python 3",
   "language": "python",
   "name": "python3"
  },
  "language_info": {
   "codemirror_mode": {
    "name": "ipython",
    "version": 3
   },
   "file_extension": ".py",
   "mimetype": "text/x-python",
   "name": "python",
   "nbconvert_exporter": "python",
   "pygments_lexer": "ipython3",
   "version": "3.6.5"
  }
 },
 "nbformat": 4,
 "nbformat_minor": 2
}
